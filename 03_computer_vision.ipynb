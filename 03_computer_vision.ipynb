{
  "nbformat": 4,
  "nbformat_minor": 0,
  "metadata": {
    "colab": {
      "provenance": [],
      "gpuType": "T4",
      "authorship_tag": "ABX9TyNcVwOtJaW1Y6pZooHujhF+"
    },
    "kernelspec": {
      "name": "python3",
      "display_name": "Python 3"
    },
    "language_info": {
      "name": "python"
    },
    "accelerator": "GPU"
  },
  "cells": [
    {
      "cell_type": "markdown",
      "source": [
        "## In this notebook, we'll apply the PyTorch Workflow from the past couple of sections to computer vision (the art of teaching a computer to see)."
      ],
      "metadata": {
        "id": "BxzQJIO8IoOO"
      }
    },
    {
      "cell_type": "code",
      "execution_count": 4,
      "metadata": {
        "id": "evRLTnxef--e",
        "colab": {
          "base_uri": "https://localhost:8080/"
        },
        "executionInfo": {
          "status": "ok",
          "timestamp": 1750117364315,
          "user_tz": 360,
          "elapsed": 1671,
          "user": {
            "displayName": "Lane Hale",
            "userId": "11862511056076326919"
          }
        },
        "outputId": "d384a9e7-e830-4de5-ed49-16f33a32135f"
      },
      "outputs": [
        {
          "output_type": "execute_result",
          "data": {
            "text/plain": [
              "('2.6.0+cu124', '0.21.0+cu124')"
            ]
          },
          "metadata": {},
          "execution_count": 4
        }
      ],
      "source": [
        "import torch\n",
        "from torch import nn\n",
        "\n",
        "import torchvision\n",
        "from torchvision import datasets\n",
        "from torchvision.transforms import ToTensor\n",
        "\n",
        "import matplotlib.pyplot as plt\n",
        "\n",
        "torch.__version__, torchvision.__version__"
      ]
    },
    {
      "cell_type": "code",
      "source": [
        "# Setup MNIST training data\n",
        "train_data0 = datasets.MNIST(\n",
        "    root = \".\",              # where to download data to\n",
        "    train = True,            # get training data\n",
        "    download = True,         # download data if not on disk\n",
        "    transform = ToTensor()   # turn PIL image data into tensors\n",
        "#    transform=transforms.ToTensor()  # other way to do it\n",
        ")\n",
        "\n",
        "# Setup MNIST testing data\n",
        "test_data0 = datasets.MNIST(\n",
        "    root = \".\",\n",
        "    train = False,           # get testing data\n",
        "    transform = ToTensor()\n",
        ")\n",
        "\n",
        "train_data0, test_data0"
      ],
      "metadata": {
        "id": "8a-yqM-5mHkE",
        "colab": {
          "base_uri": "https://localhost:8080/"
        },
        "executionInfo": {
          "status": "ok",
          "timestamp": 1750117364622,
          "user_tz": 360,
          "elapsed": 305,
          "user": {
            "displayName": "Lane Hale",
            "userId": "11862511056076326919"
          }
        },
        "outputId": "22724ff5-ba0c-46b2-eb4c-908b424895cc"
      },
      "execution_count": 5,
      "outputs": [
        {
          "output_type": "execute_result",
          "data": {
            "text/plain": [
              "(Dataset MNIST\n",
              "     Number of datapoints: 60000\n",
              "     Root location: .\n",
              "     Split: Train\n",
              "     StandardTransform\n",
              " Transform: ToTensor(),\n",
              " Dataset MNIST\n",
              "     Number of datapoints: 10000\n",
              "     Root location: .\n",
              "     Split: Test\n",
              "     StandardTransform\n",
              " Transform: ToTensor())"
            ]
          },
          "metadata": {},
          "execution_count": 5
        }
      ]
    },
    {
      "cell_type": "code",
      "source": [
        "len(train_data0), len(test_data0)"
      ],
      "metadata": {
        "id": "Jhita-VCnd5d",
        "colab": {
          "base_uri": "https://localhost:8080/"
        },
        "executionInfo": {
          "status": "ok",
          "timestamp": 1750117364623,
          "user_tz": 360,
          "elapsed": 50,
          "user": {
            "displayName": "Lane Hale",
            "userId": "11862511056076326919"
          }
        },
        "outputId": "15b36a43-50f4-4ba8-b8ee-208e2826b7c8"
      },
      "execution_count": 6,
      "outputs": [
        {
          "output_type": "execute_result",
          "data": {
            "text/plain": [
              "(60000, 10000)"
            ]
          },
          "metadata": {},
          "execution_count": 6
        }
      ]
    },
    {
      "cell_type": "code",
      "source": [
        "# Data is in tuple format (image, label)\n",
        "img0 = train_data0[0][0]\n",
        "label0 = train_data0[0][1]\n",
        "print(f\"Image: {img0}\")\n",
        "print(f\"Label: {label0}\")"
      ],
      "metadata": {
        "id": "-ea-j6M6nqBM",
        "colab": {
          "base_uri": "https://localhost:8080/"
        },
        "executionInfo": {
          "status": "ok",
          "timestamp": 1750117364624,
          "user_tz": 360,
          "elapsed": 35,
          "user": {
            "displayName": "Lane Hale",
            "userId": "11862511056076326919"
          }
        },
        "outputId": "c5920f70-8415-49f6-8c0d-e5f0166dc6f1"
      },
      "execution_count": 7,
      "outputs": [
        {
          "output_type": "stream",
          "name": "stdout",
          "text": [
            "Image: tensor([[[0.0000, 0.0000, 0.0000, 0.0000, 0.0000, 0.0000, 0.0000, 0.0000,\n",
            "          0.0000, 0.0000, 0.0000, 0.0000, 0.0000, 0.0000, 0.0000, 0.0000,\n",
            "          0.0000, 0.0000, 0.0000, 0.0000, 0.0000, 0.0000, 0.0000, 0.0000,\n",
            "          0.0000, 0.0000, 0.0000, 0.0000],\n",
            "         [0.0000, 0.0000, 0.0000, 0.0000, 0.0000, 0.0000, 0.0000, 0.0000,\n",
            "          0.0000, 0.0000, 0.0000, 0.0000, 0.0000, 0.0000, 0.0000, 0.0000,\n",
            "          0.0000, 0.0000, 0.0000, 0.0000, 0.0000, 0.0000, 0.0000, 0.0000,\n",
            "          0.0000, 0.0000, 0.0000, 0.0000],\n",
            "         [0.0000, 0.0000, 0.0000, 0.0000, 0.0000, 0.0000, 0.0000, 0.0000,\n",
            "          0.0000, 0.0000, 0.0000, 0.0000, 0.0000, 0.0000, 0.0000, 0.0000,\n",
            "          0.0000, 0.0000, 0.0000, 0.0000, 0.0000, 0.0000, 0.0000, 0.0000,\n",
            "          0.0000, 0.0000, 0.0000, 0.0000],\n",
            "         [0.0000, 0.0000, 0.0000, 0.0000, 0.0000, 0.0000, 0.0000, 0.0000,\n",
            "          0.0000, 0.0000, 0.0000, 0.0000, 0.0000, 0.0000, 0.0000, 0.0000,\n",
            "          0.0000, 0.0000, 0.0000, 0.0000, 0.0000, 0.0000, 0.0000, 0.0000,\n",
            "          0.0000, 0.0000, 0.0000, 0.0000],\n",
            "         [0.0000, 0.0000, 0.0000, 0.0000, 0.0000, 0.0000, 0.0000, 0.0000,\n",
            "          0.0000, 0.0000, 0.0000, 0.0000, 0.0000, 0.0000, 0.0000, 0.0000,\n",
            "          0.0000, 0.0000, 0.0000, 0.0000, 0.0000, 0.0000, 0.0000, 0.0000,\n",
            "          0.0000, 0.0000, 0.0000, 0.0000],\n",
            "         [0.0000, 0.0000, 0.0000, 0.0000, 0.0000, 0.0000, 0.0000, 0.0000,\n",
            "          0.0000, 0.0000, 0.0000, 0.0000, 0.0118, 0.0706, 0.0706, 0.0706,\n",
            "          0.4941, 0.5333, 0.6863, 0.1020, 0.6510, 1.0000, 0.9686, 0.4980,\n",
            "          0.0000, 0.0000, 0.0000, 0.0000],\n",
            "         [0.0000, 0.0000, 0.0000, 0.0000, 0.0000, 0.0000, 0.0000, 0.0000,\n",
            "          0.1176, 0.1412, 0.3686, 0.6039, 0.6667, 0.9922, 0.9922, 0.9922,\n",
            "          0.9922, 0.9922, 0.8824, 0.6745, 0.9922, 0.9490, 0.7647, 0.2510,\n",
            "          0.0000, 0.0000, 0.0000, 0.0000],\n",
            "         [0.0000, 0.0000, 0.0000, 0.0000, 0.0000, 0.0000, 0.0000, 0.1922,\n",
            "          0.9333, 0.9922, 0.9922, 0.9922, 0.9922, 0.9922, 0.9922, 0.9922,\n",
            "          0.9922, 0.9843, 0.3647, 0.3216, 0.3216, 0.2196, 0.1529, 0.0000,\n",
            "          0.0000, 0.0000, 0.0000, 0.0000],\n",
            "         [0.0000, 0.0000, 0.0000, 0.0000, 0.0000, 0.0000, 0.0000, 0.0706,\n",
            "          0.8588, 0.9922, 0.9922, 0.9922, 0.9922, 0.9922, 0.7765, 0.7137,\n",
            "          0.9686, 0.9451, 0.0000, 0.0000, 0.0000, 0.0000, 0.0000, 0.0000,\n",
            "          0.0000, 0.0000, 0.0000, 0.0000],\n",
            "         [0.0000, 0.0000, 0.0000, 0.0000, 0.0000, 0.0000, 0.0000, 0.0000,\n",
            "          0.3137, 0.6118, 0.4196, 0.9922, 0.9922, 0.8039, 0.0431, 0.0000,\n",
            "          0.1686, 0.6039, 0.0000, 0.0000, 0.0000, 0.0000, 0.0000, 0.0000,\n",
            "          0.0000, 0.0000, 0.0000, 0.0000],\n",
            "         [0.0000, 0.0000, 0.0000, 0.0000, 0.0000, 0.0000, 0.0000, 0.0000,\n",
            "          0.0000, 0.0549, 0.0039, 0.6039, 0.9922, 0.3529, 0.0000, 0.0000,\n",
            "          0.0000, 0.0000, 0.0000, 0.0000, 0.0000, 0.0000, 0.0000, 0.0000,\n",
            "          0.0000, 0.0000, 0.0000, 0.0000],\n",
            "         [0.0000, 0.0000, 0.0000, 0.0000, 0.0000, 0.0000, 0.0000, 0.0000,\n",
            "          0.0000, 0.0000, 0.0000, 0.5451, 0.9922, 0.7451, 0.0078, 0.0000,\n",
            "          0.0000, 0.0000, 0.0000, 0.0000, 0.0000, 0.0000, 0.0000, 0.0000,\n",
            "          0.0000, 0.0000, 0.0000, 0.0000],\n",
            "         [0.0000, 0.0000, 0.0000, 0.0000, 0.0000, 0.0000, 0.0000, 0.0000,\n",
            "          0.0000, 0.0000, 0.0000, 0.0431, 0.7451, 0.9922, 0.2745, 0.0000,\n",
            "          0.0000, 0.0000, 0.0000, 0.0000, 0.0000, 0.0000, 0.0000, 0.0000,\n",
            "          0.0000, 0.0000, 0.0000, 0.0000],\n",
            "         [0.0000, 0.0000, 0.0000, 0.0000, 0.0000, 0.0000, 0.0000, 0.0000,\n",
            "          0.0000, 0.0000, 0.0000, 0.0000, 0.1373, 0.9451, 0.8824, 0.6275,\n",
            "          0.4235, 0.0039, 0.0000, 0.0000, 0.0000, 0.0000, 0.0000, 0.0000,\n",
            "          0.0000, 0.0000, 0.0000, 0.0000],\n",
            "         [0.0000, 0.0000, 0.0000, 0.0000, 0.0000, 0.0000, 0.0000, 0.0000,\n",
            "          0.0000, 0.0000, 0.0000, 0.0000, 0.0000, 0.3176, 0.9412, 0.9922,\n",
            "          0.9922, 0.4667, 0.0980, 0.0000, 0.0000, 0.0000, 0.0000, 0.0000,\n",
            "          0.0000, 0.0000, 0.0000, 0.0000],\n",
            "         [0.0000, 0.0000, 0.0000, 0.0000, 0.0000, 0.0000, 0.0000, 0.0000,\n",
            "          0.0000, 0.0000, 0.0000, 0.0000, 0.0000, 0.0000, 0.1765, 0.7294,\n",
            "          0.9922, 0.9922, 0.5882, 0.1059, 0.0000, 0.0000, 0.0000, 0.0000,\n",
            "          0.0000, 0.0000, 0.0000, 0.0000],\n",
            "         [0.0000, 0.0000, 0.0000, 0.0000, 0.0000, 0.0000, 0.0000, 0.0000,\n",
            "          0.0000, 0.0000, 0.0000, 0.0000, 0.0000, 0.0000, 0.0000, 0.0627,\n",
            "          0.3647, 0.9882, 0.9922, 0.7333, 0.0000, 0.0000, 0.0000, 0.0000,\n",
            "          0.0000, 0.0000, 0.0000, 0.0000],\n",
            "         [0.0000, 0.0000, 0.0000, 0.0000, 0.0000, 0.0000, 0.0000, 0.0000,\n",
            "          0.0000, 0.0000, 0.0000, 0.0000, 0.0000, 0.0000, 0.0000, 0.0000,\n",
            "          0.0000, 0.9765, 0.9922, 0.9765, 0.2510, 0.0000, 0.0000, 0.0000,\n",
            "          0.0000, 0.0000, 0.0000, 0.0000],\n",
            "         [0.0000, 0.0000, 0.0000, 0.0000, 0.0000, 0.0000, 0.0000, 0.0000,\n",
            "          0.0000, 0.0000, 0.0000, 0.0000, 0.0000, 0.0000, 0.1804, 0.5098,\n",
            "          0.7176, 0.9922, 0.9922, 0.8118, 0.0078, 0.0000, 0.0000, 0.0000,\n",
            "          0.0000, 0.0000, 0.0000, 0.0000],\n",
            "         [0.0000, 0.0000, 0.0000, 0.0000, 0.0000, 0.0000, 0.0000, 0.0000,\n",
            "          0.0000, 0.0000, 0.0000, 0.0000, 0.1529, 0.5804, 0.8980, 0.9922,\n",
            "          0.9922, 0.9922, 0.9804, 0.7137, 0.0000, 0.0000, 0.0000, 0.0000,\n",
            "          0.0000, 0.0000, 0.0000, 0.0000],\n",
            "         [0.0000, 0.0000, 0.0000, 0.0000, 0.0000, 0.0000, 0.0000, 0.0000,\n",
            "          0.0000, 0.0000, 0.0941, 0.4471, 0.8667, 0.9922, 0.9922, 0.9922,\n",
            "          0.9922, 0.7882, 0.3059, 0.0000, 0.0000, 0.0000, 0.0000, 0.0000,\n",
            "          0.0000, 0.0000, 0.0000, 0.0000],\n",
            "         [0.0000, 0.0000, 0.0000, 0.0000, 0.0000, 0.0000, 0.0000, 0.0000,\n",
            "          0.0902, 0.2588, 0.8353, 0.9922, 0.9922, 0.9922, 0.9922, 0.7765,\n",
            "          0.3176, 0.0078, 0.0000, 0.0000, 0.0000, 0.0000, 0.0000, 0.0000,\n",
            "          0.0000, 0.0000, 0.0000, 0.0000],\n",
            "         [0.0000, 0.0000, 0.0000, 0.0000, 0.0000, 0.0000, 0.0706, 0.6706,\n",
            "          0.8588, 0.9922, 0.9922, 0.9922, 0.9922, 0.7647, 0.3137, 0.0353,\n",
            "          0.0000, 0.0000, 0.0000, 0.0000, 0.0000, 0.0000, 0.0000, 0.0000,\n",
            "          0.0000, 0.0000, 0.0000, 0.0000],\n",
            "         [0.0000, 0.0000, 0.0000, 0.0000, 0.2157, 0.6745, 0.8863, 0.9922,\n",
            "          0.9922, 0.9922, 0.9922, 0.9569, 0.5216, 0.0431, 0.0000, 0.0000,\n",
            "          0.0000, 0.0000, 0.0000, 0.0000, 0.0000, 0.0000, 0.0000, 0.0000,\n",
            "          0.0000, 0.0000, 0.0000, 0.0000],\n",
            "         [0.0000, 0.0000, 0.0000, 0.0000, 0.5333, 0.9922, 0.9922, 0.9922,\n",
            "          0.8314, 0.5294, 0.5176, 0.0627, 0.0000, 0.0000, 0.0000, 0.0000,\n",
            "          0.0000, 0.0000, 0.0000, 0.0000, 0.0000, 0.0000, 0.0000, 0.0000,\n",
            "          0.0000, 0.0000, 0.0000, 0.0000],\n",
            "         [0.0000, 0.0000, 0.0000, 0.0000, 0.0000, 0.0000, 0.0000, 0.0000,\n",
            "          0.0000, 0.0000, 0.0000, 0.0000, 0.0000, 0.0000, 0.0000, 0.0000,\n",
            "          0.0000, 0.0000, 0.0000, 0.0000, 0.0000, 0.0000, 0.0000, 0.0000,\n",
            "          0.0000, 0.0000, 0.0000, 0.0000],\n",
            "         [0.0000, 0.0000, 0.0000, 0.0000, 0.0000, 0.0000, 0.0000, 0.0000,\n",
            "          0.0000, 0.0000, 0.0000, 0.0000, 0.0000, 0.0000, 0.0000, 0.0000,\n",
            "          0.0000, 0.0000, 0.0000, 0.0000, 0.0000, 0.0000, 0.0000, 0.0000,\n",
            "          0.0000, 0.0000, 0.0000, 0.0000],\n",
            "         [0.0000, 0.0000, 0.0000, 0.0000, 0.0000, 0.0000, 0.0000, 0.0000,\n",
            "          0.0000, 0.0000, 0.0000, 0.0000, 0.0000, 0.0000, 0.0000, 0.0000,\n",
            "          0.0000, 0.0000, 0.0000, 0.0000, 0.0000, 0.0000, 0.0000, 0.0000,\n",
            "          0.0000, 0.0000, 0.0000, 0.0000]]])\n",
            "Label: 5\n"
          ]
        }
      ]
    },
    {
      "cell_type": "code",
      "source": [
        "# Check out the shapes of our data\n",
        "print(f\"Image shape: {img0.shape} -> [color_channels, height, width] (CHW)\")\n",
        "print(f\"Label: {label0} -> no shape, due to being integer\")\n",
        "\"\"\"\n",
        "        Note: There are two main agreed upon ways for representing images in machine learning:,\n",
        "        1. Color channels first: [color_channels, height, width] (CHW) -> PyTorch default (as of April 2022),\n",
        "        2. Color channels last: [height, width, color_channels] (HWC) -> Matplotlib/TensorFlow default (as of April 2022)\n",
        "\"\"\""
      ],
      "metadata": {
        "id": "lrSOtzKBolJy",
        "colab": {
          "base_uri": "https://localhost:8080/",
          "height": 105
        },
        "executionInfo": {
          "status": "ok",
          "timestamp": 1750117364626,
          "user_tz": 360,
          "elapsed": 31,
          "user": {
            "displayName": "Lane Hale",
            "userId": "11862511056076326919"
          }
        },
        "outputId": "29c3292e-ad2a-4765-8109-ed6611d94d9c"
      },
      "execution_count": 8,
      "outputs": [
        {
          "output_type": "stream",
          "name": "stdout",
          "text": [
            "Image shape: torch.Size([1, 28, 28]) -> [color_channels, height, width] (CHW)\n",
            "Label: 5 -> no shape, due to being integer\n"
          ]
        },
        {
          "output_type": "execute_result",
          "data": {
            "text/plain": [
              "'\\n        Note: There are two main agreed upon ways for representing images in machine learning:,\\n        1. Color channels first: [color_channels, height, width] (CHW) -> PyTorch default (as of April 2022),\\n        2. Color channels last: [height, width, color_channels] (HWC) -> Matplotlib/TensorFlow default (as of April 2022)\\n'"
            ],
            "application/vnd.google.colaboratory.intrinsic+json": {
              "type": "string"
            }
          },
          "metadata": {},
          "execution_count": 8
        }
      ]
    },
    {
      "cell_type": "code",
      "source": [
        "# Get the class names from the dataset\n",
        "class_names0 = train_data0.classes\n",
        "class_names0"
      ],
      "metadata": {
        "id": "ui2dVhRypTbh",
        "colab": {
          "base_uri": "https://localhost:8080/"
        },
        "executionInfo": {
          "status": "ok",
          "timestamp": 1750117364626,
          "user_tz": 360,
          "elapsed": 19,
          "user": {
            "displayName": "Lane Hale",
            "userId": "11862511056076326919"
          }
        },
        "outputId": "32315234-6736-4697-ca49-9d2c2ed0423b"
      },
      "execution_count": 9,
      "outputs": [
        {
          "output_type": "execute_result",
          "data": {
            "text/plain": [
              "['0 - zero',\n",
              " '1 - one',\n",
              " '2 - two',\n",
              " '3 - three',\n",
              " '4 - four',\n",
              " '5 - five',\n",
              " '6 - six',\n",
              " '7 - seven',\n",
              " '8 - eight',\n",
              " '9 - nine']"
            ]
          },
          "metadata": {},
          "execution_count": 9
        }
      ]
    },
    {
      "cell_type": "code",
      "source": [
        "## 6. Visualize at least 5 different samples of the MNIST training dataset.\n",
        "for i in range(5):\n",
        "  img0 = train_data0[i][0]\n",
        "  print(img0.shape)\n",
        "  img0_squeeze = img0.squeeze()\n",
        "  print(img0_squeeze.shape)\n",
        "  label0 = train_data0[i][1]\n",
        "  plt.figure(figsize=(3, 3))\n",
        "  plt.imshow(img0_squeeze, cmap=\"gray\")\n",
        "  plt.title(label0)\n",
        "  plt.axis(False)"
      ],
      "metadata": {
        "id": "dpt60OqupmcU",
        "colab": {
          "base_uri": "https://localhost:8080/",
          "height": 1000
        },
        "executionInfo": {
          "status": "ok",
          "timestamp": 1750117364897,
          "user_tz": 360,
          "elapsed": 281,
          "user": {
            "displayName": "Lane Hale",
            "userId": "11862511056076326919"
          }
        },
        "outputId": "85e35245-c751-4d14-b939-c669a1be0583"
      },
      "execution_count": 10,
      "outputs": [
        {
          "output_type": "stream",
          "name": "stdout",
          "text": [
            "torch.Size([1, 28, 28])\n",
            "torch.Size([28, 28])\n",
            "torch.Size([1, 28, 28])\n",
            "torch.Size([28, 28])\n",
            "torch.Size([1, 28, 28])\n",
            "torch.Size([28, 28])\n",
            "torch.Size([1, 28, 28])\n",
            "torch.Size([28, 28])\n",
            "torch.Size([1, 28, 28])\n",
            "torch.Size([28, 28])\n"
          ]
        },
        {
          "output_type": "display_data",
          "data": {
            "text/plain": [
              "<Figure size 300x300 with 1 Axes>"
            ],
            "image/png": "[encoded data removed]"
          },
          "metadata": {}
        },
        {
          "output_type": "display_data",
          "data": {
            "text/plain": [
              "<Figure size 300x300 with 1 Axes>"
            ],
            "image/png": "[encoded data removed]"
          },
          "metadata": {}
        },
        {
          "output_type": "display_data",
          "data": {
            "text/plain": [
              "<Figure size 300x300 with 1 Axes>"
            ],
            "image/png": "[encoded data removed]"
          },
          "metadata": {}
        },
        {
          "output_type": "display_data",
          "data": {
            "text/plain": [
              "<Figure size 300x300 with 1 Axes>"
            ],
            "image/png": "[encoded data removed]"
          },
          "metadata": {}
        },
        {
          "output_type": "display_data",
          "data": {
            "text/plain": [
              "<Figure size 300x300 with 1 Axes>"
            ],
            "image/png": "[encoded data removed]"
          },
          "metadata": {}
        }
      ]
    },
    {
      "cell_type": "code",
      "source": [
        "# Setup training data\n",
        "train_data = datasets.FashionMNIST(\n",
        "    root = \"data\",           # where to download data to\n",
        "    train = True,            # get training data\n",
        "    download = True,         # download data if not on disk\n",
        "    transform = ToTensor(),  # turn PIL image data into tensors\n",
        "    target_transform = None  # don't need to transform labels\n",
        ")\n",
        "\n",
        "# Setup testing data\n",
        "test_data = datasets.FashionMNIST(\n",
        "    root = \"data\",\n",
        "    train = False,           # get testing data\n",
        "    transform = ToTensor(),\n",
        "    target_transform = None\n",
        ")\n",
        "\n",
        "# See first training sample\n",
        "image, label = train_data[0]\n",
        "image, label"
      ],
      "metadata": {
        "id": "vwHi9exvglwP",
        "colab": {
          "base_uri": "https://localhost:8080/"
        },
        "executionInfo": {
          "status": "ok",
          "timestamp": 1750117365140,
          "user_tz": 360,
          "elapsed": 258,
          "user": {
            "displayName": "Lane Hale",
            "userId": "11862511056076326919"
          }
        },
        "outputId": "68b7812b-09d3-4672-bdb4-566764df2ac6"
      },
      "execution_count": 11,
      "outputs": [
        {
          "output_type": "execute_result",
          "data": {
            "text/plain": [
              "(tensor([[[0.0000, 0.0000, 0.0000, 0.0000, 0.0000, 0.0000, 0.0000, 0.0000,\n",
              "           0.0000, 0.0000, 0.0000, 0.0000, 0.0000, 0.0000, 0.0000, 0.0000,\n",
              "           0.0000, 0.0000, 0.0000, 0.0000, 0.0000, 0.0000, 0.0000, 0.0000,\n",
              "           0.0000, 0.0000, 0.0000, 0.0000],\n",
              "          [0.0000, 0.0000, 0.0000, 0.0000, 0.0000, 0.0000, 0.0000, 0.0000,\n",
              "           0.0000, 0.0000, 0.0000, 0.0000, 0.0000, 0.0000, 0.0000, 0.0000,\n",
              "           0.0000, 0.0000, 0.0000, 0.0000, 0.0000, 0.0000, 0.0000, 0.0000,\n",
              "           0.0000, 0.0000, 0.0000, 0.0000],\n",
              "          [0.0000, 0.0000, 0.0000, 0.0000, 0.0000, 0.0000, 0.0000, 0.0000,\n",
              "           0.0000, 0.0000, 0.0000, 0.0000, 0.0000, 0.0000, 0.0000, 0.0000,\n",
              "           0.0000, 0.0000, 0.0000, 0.0000, 0.0000, 0.0000, 0.0000, 0.0000,\n",
              "           0.0000, 0.0000, 0.0000, 0.0000],\n",
              "          [0.0000, 0.0000, 0.0000, 0.0000, 0.0000, 0.0000, 0.0000, 0.0000,\n",
              "           0.0000, 0.0000, 0.0000, 0.0000, 0.0039, 0.0000, 0.0000, 0.0510,\n",
              "           0.2863, 0.0000, 0.0000, 0.0039, 0.0157, 0.0000, 0.0000, 0.0000,\n",
              "           0.0000, 0.0039, 0.0039, 0.0000],\n",
              "          [0.0000, 0.0000, 0.0000, 0.0000, 0.0000, 0.0000, 0.0000, 0.0000,\n",
              "           0.0000, 0.0000, 0.0000, 0.0000, 0.0118, 0.0000, 0.1412, 0.5333,\n",
              "           0.4980, 0.2431, 0.2118, 0.0000, 0.0000, 0.0000, 0.0039, 0.0118,\n",
              "           0.0157, 0.0000, 0.0000, 0.0118],\n",
              "          [0.0000, 0.0000, 0.0000, 0.0000, 0.0000, 0.0000, 0.0000, 0.0000,\n",
              "           0.0000, 0.0000, 0.0000, 0.0000, 0.0235, 0.0000, 0.4000, 0.8000,\n",
              "           0.6902, 0.5255, 0.5647, 0.4824, 0.0902, 0.0000, 0.0000, 0.0000,\n",
              "           0.0000, 0.0471, 0.0392, 0.0000],\n",
              "          [0.0000, 0.0000, 0.0000, 0.0000, 0.0000, 0.0000, 0.0000, 0.0000,\n",
              "           0.0000, 0.0000, 0.0000, 0.0000, 0.0000, 0.0000, 0.6078, 0.9255,\n",
              "           0.8118, 0.6980, 0.4196, 0.6118, 0.6314, 0.4275, 0.2510, 0.0902,\n",
              "           0.3020, 0.5098, 0.2824, 0.0588],\n",
              "          [0.0000, 0.0000, 0.0000, 0.0000, 0.0000, 0.0000, 0.0000, 0.0000,\n",
              "           0.0000, 0.0000, 0.0000, 0.0039, 0.0000, 0.2706, 0.8118, 0.8745,\n",
              "           0.8549, 0.8471, 0.8471, 0.6392, 0.4980, 0.4745, 0.4784, 0.5725,\n",
              "           0.5529, 0.3451, 0.6745, 0.2588],\n",
              "          [0.0000, 0.0000, 0.0000, 0.0000, 0.0000, 0.0000, 0.0000, 0.0000,\n",
              "           0.0000, 0.0039, 0.0039, 0.0039, 0.0000, 0.7843, 0.9098, 0.9098,\n",
              "           0.9137, 0.8980, 0.8745, 0.8745, 0.8431, 0.8353, 0.6431, 0.4980,\n",
              "           0.4824, 0.7686, 0.8980, 0.0000],\n",
              "          [0.0000, 0.0000, 0.0000, 0.0000, 0.0000, 0.0000, 0.0000, 0.0000,\n",
              "           0.0000, 0.0000, 0.0000, 0.0000, 0.0000, 0.7176, 0.8824, 0.8471,\n",
              "           0.8745, 0.8941, 0.9216, 0.8902, 0.8784, 0.8706, 0.8784, 0.8667,\n",
              "           0.8745, 0.9608, 0.6784, 0.0000],\n",
              "          [0.0000, 0.0000, 0.0000, 0.0000, 0.0000, 0.0000, 0.0000, 0.0000,\n",
              "           0.0000, 0.0000, 0.0000, 0.0000, 0.0000, 0.7569, 0.8941, 0.8549,\n",
              "           0.8353, 0.7765, 0.7059, 0.8314, 0.8235, 0.8275, 0.8353, 0.8745,\n",
              "           0.8627, 0.9529, 0.7922, 0.0000],\n",
              "          [0.0000, 0.0000, 0.0000, 0.0000, 0.0000, 0.0000, 0.0000, 0.0000,\n",
              "           0.0000, 0.0039, 0.0118, 0.0000, 0.0471, 0.8588, 0.8627, 0.8314,\n",
              "           0.8549, 0.7529, 0.6627, 0.8902, 0.8157, 0.8549, 0.8784, 0.8314,\n",
              "           0.8863, 0.7725, 0.8196, 0.2039],\n",
              "          [0.0000, 0.0000, 0.0000, 0.0000, 0.0000, 0.0000, 0.0000, 0.0000,\n",
              "           0.0000, 0.0000, 0.0235, 0.0000, 0.3882, 0.9569, 0.8706, 0.8627,\n",
              "           0.8549, 0.7961, 0.7765, 0.8667, 0.8431, 0.8353, 0.8706, 0.8627,\n",
              "           0.9608, 0.4667, 0.6549, 0.2196],\n",
              "          [0.0000, 0.0000, 0.0000, 0.0000, 0.0000, 0.0000, 0.0000, 0.0000,\n",
              "           0.0000, 0.0157, 0.0000, 0.0000, 0.2157, 0.9255, 0.8941, 0.9020,\n",
              "           0.8941, 0.9412, 0.9098, 0.8353, 0.8549, 0.8745, 0.9176, 0.8510,\n",
              "           0.8510, 0.8196, 0.3608, 0.0000],\n",
              "          [0.0000, 0.0000, 0.0039, 0.0157, 0.0235, 0.0275, 0.0078, 0.0000,\n",
              "           0.0000, 0.0000, 0.0000, 0.0000, 0.9294, 0.8863, 0.8510, 0.8745,\n",
              "           0.8706, 0.8588, 0.8706, 0.8667, 0.8471, 0.8745, 0.8980, 0.8431,\n",
              "           0.8549, 1.0000, 0.3020, 0.0000],\n",
              "          [0.0000, 0.0118, 0.0000, 0.0000, 0.0000, 0.0000, 0.0000, 0.0000,\n",
              "           0.0000, 0.2431, 0.5686, 0.8000, 0.8941, 0.8118, 0.8353, 0.8667,\n",
              "           0.8549, 0.8157, 0.8275, 0.8549, 0.8784, 0.8745, 0.8588, 0.8431,\n",
              "           0.8784, 0.9569, 0.6235, 0.0000],\n",
              "          [0.0000, 0.0000, 0.0000, 0.0000, 0.0706, 0.1725, 0.3216, 0.4196,\n",
              "           0.7412, 0.8941, 0.8627, 0.8706, 0.8510, 0.8863, 0.7843, 0.8039,\n",
              "           0.8275, 0.9020, 0.8784, 0.9176, 0.6902, 0.7373, 0.9804, 0.9725,\n",
              "           0.9137, 0.9333, 0.8431, 0.0000],\n",
              "          [0.0000, 0.2235, 0.7333, 0.8157, 0.8784, 0.8667, 0.8784, 0.8157,\n",
              "           0.8000, 0.8392, 0.8157, 0.8196, 0.7843, 0.6235, 0.9608, 0.7569,\n",
              "           0.8078, 0.8745, 1.0000, 1.0000, 0.8667, 0.9176, 0.8667, 0.8275,\n",
              "           0.8627, 0.9098, 0.9647, 0.0000],\n",
              "          [0.0118, 0.7922, 0.8941, 0.8784, 0.8667, 0.8275, 0.8275, 0.8392,\n",
              "           0.8039, 0.8039, 0.8039, 0.8627, 0.9412, 0.3137, 0.5882, 1.0000,\n",
              "           0.8980, 0.8667, 0.7373, 0.6039, 0.7490, 0.8235, 0.8000, 0.8196,\n",
              "           0.8706, 0.8941, 0.8824, 0.0000],\n",
              "          [0.3843, 0.9137, 0.7765, 0.8235, 0.8706, 0.8980, 0.8980, 0.9176,\n",
              "           0.9765, 0.8627, 0.7608, 0.8431, 0.8510, 0.9451, 0.2549, 0.2863,\n",
              "           0.4157, 0.4588, 0.6588, 0.8588, 0.8667, 0.8431, 0.8510, 0.8745,\n",
              "           0.8745, 0.8784, 0.8980, 0.1137],\n",
              "          [0.2941, 0.8000, 0.8314, 0.8000, 0.7569, 0.8039, 0.8275, 0.8824,\n",
              "           0.8471, 0.7255, 0.7725, 0.8078, 0.7765, 0.8353, 0.9412, 0.7647,\n",
              "           0.8902, 0.9608, 0.9373, 0.8745, 0.8549, 0.8314, 0.8196, 0.8706,\n",
              "           0.8627, 0.8667, 0.9020, 0.2627],\n",
              "          [0.1882, 0.7961, 0.7176, 0.7608, 0.8353, 0.7725, 0.7255, 0.7451,\n",
              "           0.7608, 0.7529, 0.7922, 0.8392, 0.8588, 0.8667, 0.8627, 0.9255,\n",
              "           0.8824, 0.8471, 0.7804, 0.8078, 0.7294, 0.7098, 0.6941, 0.6745,\n",
              "           0.7098, 0.8039, 0.8078, 0.4510],\n",
              "          [0.0000, 0.4784, 0.8588, 0.7569, 0.7020, 0.6706, 0.7176, 0.7686,\n",
              "           0.8000, 0.8235, 0.8353, 0.8118, 0.8275, 0.8235, 0.7843, 0.7686,\n",
              "           0.7608, 0.7490, 0.7647, 0.7490, 0.7765, 0.7529, 0.6902, 0.6118,\n",
              "           0.6549, 0.6941, 0.8235, 0.3608],\n",
              "          [0.0000, 0.0000, 0.2902, 0.7412, 0.8314, 0.7490, 0.6863, 0.6745,\n",
              "           0.6863, 0.7098, 0.7255, 0.7373, 0.7412, 0.7373, 0.7569, 0.7765,\n",
              "           0.8000, 0.8196, 0.8235, 0.8235, 0.8275, 0.7373, 0.7373, 0.7608,\n",
              "           0.7529, 0.8471, 0.6667, 0.0000],\n",
              "          [0.0078, 0.0000, 0.0000, 0.0000, 0.2588, 0.7843, 0.8706, 0.9294,\n",
              "           0.9373, 0.9490, 0.9647, 0.9529, 0.9569, 0.8667, 0.8627, 0.7569,\n",
              "           0.7490, 0.7020, 0.7137, 0.7137, 0.7098, 0.6902, 0.6510, 0.6588,\n",
              "           0.3882, 0.2275, 0.0000, 0.0000],\n",
              "          [0.0000, 0.0000, 0.0000, 0.0000, 0.0000, 0.0000, 0.0000, 0.1569,\n",
              "           0.2392, 0.1725, 0.2824, 0.1608, 0.1373, 0.0000, 0.0000, 0.0000,\n",
              "           0.0000, 0.0000, 0.0000, 0.0000, 0.0000, 0.0000, 0.0000, 0.0000,\n",
              "           0.0000, 0.0000, 0.0000, 0.0000],\n",
              "          [0.0000, 0.0000, 0.0000, 0.0000, 0.0000, 0.0000, 0.0000, 0.0000,\n",
              "           0.0000, 0.0000, 0.0000, 0.0000, 0.0000, 0.0000, 0.0000, 0.0000,\n",
              "           0.0000, 0.0000, 0.0000, 0.0000, 0.0000, 0.0000, 0.0000, 0.0000,\n",
              "           0.0000, 0.0000, 0.0000, 0.0000],\n",
              "          [0.0000, 0.0000, 0.0000, 0.0000, 0.0000, 0.0000, 0.0000, 0.0000,\n",
              "           0.0000, 0.0000, 0.0000, 0.0000, 0.0000, 0.0000, 0.0000, 0.0000,\n",
              "           0.0000, 0.0000, 0.0000, 0.0000, 0.0000, 0.0000, 0.0000, 0.0000,\n",
              "           0.0000, 0.0000, 0.0000, 0.0000]]]),\n",
              " 9)"
            ]
          },
          "metadata": {},
          "execution_count": 11
        }
      ]
    },
    {
      "cell_type": "code",
      "source": [
        "train_data, test_data"
      ],
      "metadata": {
        "id": "KZmXLaExlTW0",
        "colab": {
          "base_uri": "https://localhost:8080/"
        },
        "executionInfo": {
          "status": "ok",
          "timestamp": 1750117365153,
          "user_tz": 360,
          "elapsed": 11,
          "user": {
            "displayName": "Lane Hale",
            "userId": "11862511056076326919"
          }
        },
        "outputId": "1bbee53d-296e-4ab6-d22c-3e3284daf3a3"
      },
      "execution_count": 12,
      "outputs": [
        {
          "output_type": "execute_result",
          "data": {
            "text/plain": [
              "(Dataset FashionMNIST\n",
              "     Number of datapoints: 60000\n",
              "     Root location: data\n",
              "     Split: Train\n",
              "     StandardTransform\n",
              " Transform: ToTensor(),\n",
              " Dataset FashionMNIST\n",
              "     Number of datapoints: 10000\n",
              "     Root location: data\n",
              "     Split: Test\n",
              "     StandardTransform\n",
              " Transform: ToTensor())"
            ]
          },
          "metadata": {},
          "execution_count": 12
        }
      ]
    },
    {
      "cell_type": "code",
      "source": [
        "image.shape"
      ],
      "metadata": {
        "id": "NrjyUaCqis_U",
        "colab": {
          "base_uri": "https://localhost:8080/"
        },
        "executionInfo": {
          "status": "ok",
          "timestamp": 1750117365173,
          "user_tz": 360,
          "elapsed": 19,
          "user": {
            "displayName": "Lane Hale",
            "userId": "11862511056076326919"
          }
        },
        "outputId": "3fc76641-a047-447f-e3c9-454fb6bad0cf"
      },
      "execution_count": 13,
      "outputs": [
        {
          "output_type": "execute_result",
          "data": {
            "text/plain": [
              "torch.Size([1, 28, 28])"
            ]
          },
          "metadata": {},
          "execution_count": 13
        }
      ]
    },
    {
      "cell_type": "code",
      "source": [
        "# Number of samples\n",
        "len(train_data.data), len(train_data.targets), len(test_data.data), len(test_data.targets)"
      ],
      "metadata": {
        "id": "5XFk26w3jPCI",
        "colab": {
          "base_uri": "https://localhost:8080/"
        },
        "executionInfo": {
          "status": "ok",
          "timestamp": 1750117365181,
          "user_tz": 360,
          "elapsed": 6,
          "user": {
            "displayName": "Lane Hale",
            "userId": "11862511056076326919"
          }
        },
        "outputId": "47d579ef-fc11-44bc-9cf0-296cb289e983"
      },
      "execution_count": 14,
      "outputs": [
        {
          "output_type": "execute_result",
          "data": {
            "text/plain": [
              "(60000, 60000, 10000, 10000)"
            ]
          },
          "metadata": {},
          "execution_count": 14
        }
      ]
    },
    {
      "cell_type": "code",
      "source": [
        "class_names = train_data.classes\n",
        "class_names"
      ],
      "metadata": {
        "id": "xoZOG4pgjfeM",
        "colab": {
          "base_uri": "https://localhost:8080/"
        },
        "executionInfo": {
          "status": "ok",
          "timestamp": 1750117365228,
          "user_tz": 360,
          "elapsed": 44,
          "user": {
            "displayName": "Lane Hale",
            "userId": "11862511056076326919"
          }
        },
        "outputId": "e3ed1b65-8d6a-4748-ceaa-c922ee546200"
      },
      "execution_count": 15,
      "outputs": [
        {
          "output_type": "execute_result",
          "data": {
            "text/plain": [
              "['T-shirt/top',\n",
              " 'Trouser',\n",
              " 'Pullover',\n",
              " 'Dress',\n",
              " 'Coat',\n",
              " 'Sandal',\n",
              " 'Shirt',\n",
              " 'Sneaker',\n",
              " 'Bag',\n",
              " 'Ankle boot']"
            ]
          },
          "metadata": {},
          "execution_count": 15
        }
      ]
    },
    {
      "cell_type": "code",
      "source": [
        "plt.imshow(image.squeeze())\n",
        "plt.title(label)"
      ],
      "metadata": {
        "id": "Y2_BbE9CjvMa",
        "colab": {
          "base_uri": "https://localhost:8080/",
          "height": 469
        },
        "executionInfo": {
          "status": "ok",
          "timestamp": 1750117365309,
          "user_tz": 360,
          "elapsed": 79,
          "user": {
            "displayName": "Lane Hale",
            "userId": "11862511056076326919"
          }
        },
        "outputId": "50c0166a-548a-4953-ec53-f9447c9f919d"
      },
      "execution_count": 16,
      "outputs": [
        {
          "output_type": "execute_result",
          "data": {
            "text/plain": [
              "Text(0.5, 1.0, '9')"
            ]
          },
          "metadata": {},
          "execution_count": 16
        },
        {
          "output_type": "display_data",
          "data": {
            "text/plain": [
              "<Figure size 640x480 with 1 Axes>"
            ],
            "image/png": "[encoded data removed]"
          },
          "metadata": {}
        }
      ]
    },
    {
      "cell_type": "code",
      "source": [
        "image5, label5 = train_data[5]\n",
        "plt.imshow(image5.squeeze(), cmap=\"gray\")\n",
        "plt.title(class_names[label5])"
      ],
      "metadata": {
        "id": "P9XLVXGZkR7V",
        "colab": {
          "base_uri": "https://localhost:8080/",
          "height": 469
        },
        "executionInfo": {
          "status": "ok",
          "timestamp": 1750117365491,
          "user_tz": 360,
          "elapsed": 180,
          "user": {
            "displayName": "Lane Hale",
            "userId": "11862511056076326919"
          }
        },
        "outputId": "32243843-2652-4561-d76a-92910a0a2353"
      },
      "execution_count": 17,
      "outputs": [
        {
          "output_type": "execute_result",
          "data": {
            "text/plain": [
              "Text(0.5, 1.0, 'Pullover')"
            ]
          },
          "metadata": {},
          "execution_count": 17
        },
        {
          "output_type": "display_data",
          "data": {
            "text/plain": [
              "<Figure size 640x480 with 1 Axes>"
            ],
            "image/png": "[encoded data removed]"
          },
          "metadata": {}
        }
      ]
    },
    {
      "cell_type": "code",
      "source": [
        "fig = plt.figure(figsize=(9,9))\n",
        "rows, cols = 4, 5\n",
        "for i in range(1, rows * cols + 1):\n",
        "  random_idx = torch.randint(0, len(train_data), size=[1]).item()\n",
        "  img, lbl = train_data[random_idx]\n",
        "  fig.add_subplot(rows, cols, i)\n",
        "  plt.imshow(img.squeeze(), cmap=\"gray\")\n",
        "\n",
        "  plt.title(class_names[lbl])\n",
        "  plt.axis(False)"
      ],
      "metadata": {
        "id": "N5VC4rMekt3t",
        "colab": {
          "base_uri": "https://localhost:8080/",
          "height": 721
        },
        "executionInfo": {
          "status": "ok",
          "timestamp": 1750117366220,
          "user_tz": 360,
          "elapsed": 727,
          "user": {
            "displayName": "Lane Hale",
            "userId": "11862511056076326919"
          }
        },
        "outputId": "2abadc77-7ea4-456f-c7d1-b4f023206486"
      },
      "execution_count": 18,
      "outputs": [
        {
          "output_type": "display_data",
          "data": {
            "text/plain": [
              "<Figure size 900x900 with 20 Axes>"
            ],
            "image/png": "[encoded data removed]"
          },
          "metadata": {}
        }
      ]
    },
    {
      "cell_type": "code",
      "source": [
        "# Turn the MNIST train and test datasets into dataloaders\n",
        "from torch.utils.data import DataLoader\n",
        "\n",
        "# Turn datasets into batches\n",
        "BATCH_SIZE = 32\n",
        "train_dataloader = DataLoader(train_data,\n",
        "                              batch_size = BATCH_SIZE,  # of samples per batch\n",
        "                              shuffle = True)           # shuffle data every epoch\n",
        "test_dataloader = DataLoader(test_data,\n",
        "                              batch_size = BATCH_SIZE,\n",
        "                              shuffle = False)\n",
        "\n",
        "#train_dataloader, test_dataloader, len(train_dataloader), len(test_dataloader)\n",
        "print(train_dataloader, test_dataloader)\n",
        "print(f\"{len(train_dataloader)} batches of 32\")\n",
        "print(f\"{len(test_dataloader)} batches of 32\")"
      ],
      "metadata": {
        "id": "6ZnVgPZ0meiS",
        "colab": {
          "base_uri": "https://localhost:8080/"
        },
        "executionInfo": {
          "status": "ok",
          "timestamp": 1750117366232,
          "user_tz": 360,
          "elapsed": 10,
          "user": {
            "displayName": "Lane Hale",
            "userId": "11862511056076326919"
          }
        },
        "outputId": "c7c33be2-9264-426d-c2a2-ea36e958ef17"
      },
      "execution_count": 19,
      "outputs": [
        {
          "output_type": "stream",
          "name": "stdout",
          "text": [
            "<torch.utils.data.dataloader.DataLoader object at 0x7ca9c9b85b90> <torch.utils.data.dataloader.DataLoader object at 0x7ca9c9fe3e10>\n",
            "1875 batches of 32\n",
            "313 batches of 32\n"
          ]
        }
      ]
    },
    {
      "cell_type": "code",
      "source": [
        "# See what's in a training batch\n",
        "train_features_batch, train_labels_batch = next(iter(train_dataloader))\n",
        "train_features_batch.shape, train_labels_batch.shape"
      ],
      "metadata": {
        "id": "nlwUKnKao6dt",
        "colab": {
          "base_uri": "https://localhost:8080/"
        },
        "executionInfo": {
          "status": "ok",
          "timestamp": 1750117366242,
          "user_tz": 360,
          "elapsed": 8,
          "user": {
            "displayName": "Lane Hale",
            "userId": "11862511056076326919"
          }
        },
        "outputId": "46842c47-9f72-49f5-b683-6ef7808ef94d"
      },
      "execution_count": 20,
      "outputs": [
        {
          "output_type": "execute_result",
          "data": {
            "text/plain": [
              "(torch.Size([32, 1, 28, 28]), torch.Size([32]))"
            ]
          },
          "metadata": {},
          "execution_count": 20
        }
      ]
    },
    {
      "cell_type": "code",
      "source": [
        "# Plot a sample from the batch\n",
        "random_idx = torch.randint(0, len(train_features_batch), size=[1]).item()\n",
        "img, lbl = train_features_batch[random_idx], train_labels_batch[random_idx]\n",
        "plt.imshow(img.squeeze())\n",
        "plt.title(class_names[lbl])\n",
        "plt.axis(\"Off\")  # same as plt.axis(False)"
      ],
      "metadata": {
        "id": "nHaoiSzlpPcf",
        "colab": {
          "base_uri": "https://localhost:8080/",
          "height": 445
        },
        "executionInfo": {
          "status": "ok",
          "timestamp": 1750117366264,
          "user_tz": 360,
          "elapsed": 19,
          "user": {
            "displayName": "Lane Hale",
            "userId": "11862511056076326919"
          }
        },
        "outputId": "19ea4a5f-e7a0-4651-dd5e-2e7e8cef8fb2"
      },
      "execution_count": 21,
      "outputs": [
        {
          "output_type": "execute_result",
          "data": {
            "text/plain": [
              "(np.float64(-0.5), np.float64(27.5), np.float64(27.5), np.float64(-0.5))"
            ]
          },
          "metadata": {},
          "execution_count": 21
        },
        {
          "output_type": "display_data",
          "data": {
            "text/plain": [
              "<Figure size 640x480 with 1 Axes>"
            ],
            "image/png": "[encoded data removed]"
          },
          "metadata": {}
        }
      ]
    },
    {
      "cell_type": "code",
      "source": [
        "# Setup device agnostic code\n",
        "device = \"cuda\" if torch.cuda.is_available() else \"cpu\""
      ],
      "metadata": {
        "id": "KEnWlDXaulDB",
        "executionInfo": {
          "status": "ok",
          "timestamp": 1750117366288,
          "user_tz": 360,
          "elapsed": 21,
          "user": {
            "displayName": "Lane Hale",
            "userId": "11862511056076326919"
          }
        }
      },
      "execution_count": 22,
      "outputs": []
    },
    {
      "cell_type": "code",
      "source": [
        "# Create a convolutional neural network\n",
        "class FashionMNISTModelV2(nn.Module):\n",
        "  # Model architecture from TinyVGG\n",
        "  def __init__(self, input_shape: int, hidden_units: int, output_shape: int):\n",
        "    super().__init__()\n",
        "    self.block1 = nn.Sequential(\n",
        "        nn.Conv2d(in_channels = input_shape,\n",
        "                  out_channels = hidden_units,\n",
        "                  kernel_size = 3,  # size of the square going over the image\n",
        "                  stride = 1,\n",
        "                  padding = 1),\n",
        "        nn.ReLU(),\n",
        "        nn.Conv2d(in_channels = hidden_units,\n",
        "                  out_channels = hidden_units,\n",
        "                  kernel_size = 3,\n",
        "                  stride = 1,\n",
        "                  padding = 1),\n",
        "        nn.ReLU(),\n",
        "        nn.MaxPool2d(kernel_size = 2,\n",
        "                     stride = 2)  # default stride same as kernel size\n",
        "    )\n",
        "    self.block2 = nn.Sequential(\n",
        "        nn.Conv2d(hidden_units, hidden_units, 3, padding=1),\n",
        "        nn.ReLU(),\n",
        "        nn.Conv2d(hidden_units, hidden_units, 3, padding=1),\n",
        "        nn.ReLU(),\n",
        "        nn.MaxPool2d(2)\n",
        "    )\n",
        "    self.classifier = nn.Sequential(\n",
        "        nn.Flatten(),\n",
        "        # The in_features shape comes from/because each layer of our network\n",
        "        # compresses and changes the shape of our input data.\n",
        "        nn.Linear(in_features = hidden_units * 7 * 7,\n",
        "                  out_features = output_shape)\n",
        "    )\n",
        "\n",
        "  def forward(self, x: torch.Tensor):\n",
        "    x = self.block1(x)\n",
        "    x = self.block2(x)\n",
        "    x = self.classifier(x)\n",
        "    return x\n",
        "\n",
        "torch.manual_seed(42)\n",
        "model_2 = FashionMNISTModelV2(input_shape = 1,\n",
        "                              hidden_units = 10,\n",
        "                              output_shape = len(class_names)).to(device)\n",
        "model_2"
      ],
      "metadata": {
        "id": "NrFIsPzhp9af",
        "colab": {
          "base_uri": "https://localhost:8080/"
        },
        "executionInfo": {
          "status": "ok",
          "timestamp": 1750117366458,
          "user_tz": 360,
          "elapsed": 167,
          "user": {
            "displayName": "Lane Hale",
            "userId": "11862511056076326919"
          }
        },
        "outputId": "94cc2f78-a047-4bb3-8569-f09d43a57d94"
      },
      "execution_count": 23,
      "outputs": [
        {
          "output_type": "execute_result",
          "data": {
            "text/plain": [
              "FashionMNISTModelV2(\n",
              "  (block1): Sequential(\n",
              "    (0): Conv2d(1, 10, kernel_size=(3, 3), stride=(1, 1), padding=(1, 1))\n",
              "    (1): ReLU()\n",
              "    (2): Conv2d(10, 10, kernel_size=(3, 3), stride=(1, 1), padding=(1, 1))\n",
              "    (3): ReLU()\n",
              "    (4): MaxPool2d(kernel_size=2, stride=2, padding=0, dilation=1, ceil_mode=False)\n",
              "  )\n",
              "  (block2): Sequential(\n",
              "    (0): Conv2d(10, 10, kernel_size=(3, 3), stride=(1, 1), padding=(1, 1))\n",
              "    (1): ReLU()\n",
              "    (2): Conv2d(10, 10, kernel_size=(3, 3), stride=(1, 1), padding=(1, 1))\n",
              "    (3): ReLU()\n",
              "    (4): MaxPool2d(kernel_size=2, stride=2, padding=0, dilation=1, ceil_mode=False)\n",
              "  )\n",
              "  (classifier): Sequential(\n",
              "    (0): Flatten(start_dim=1, end_dim=-1)\n",
              "    (1): Linear(in_features=490, out_features=10, bias=True)\n",
              "  )\n",
              ")"
            ]
          },
          "metadata": {},
          "execution_count": 23
        }
      ]
    },
    {
      "cell_type": "code",
      "source": [
        "# Training and Testing functions\n",
        "def train_step(model: torch.nn.Module,\n",
        "               dataloader: torch.utils.data.DataLoader,\n",
        "               loss_fn: torch.nn.Module,\n",
        "               optimizer: torch.optim.Optimizer,\n",
        "               accuracy_fn,\n",
        "               device: torch.device = device):\n",
        "  train_loss, train_accuracy = 0, 0\n",
        "  model.to(device)\n",
        "  for batch, (X, y) in enumerate(dataloader):\n",
        "    # Send to GPU\n",
        "    X, y = X.to(device), y.to(device)\n",
        "    # Forward pass\n",
        "    y_pred = model(X)\n",
        "    # Calc loss\n",
        "    loss = loss_fn(y_pred, y)\n",
        "    train_loss += loss\n",
        "    train_accuracy += accuracy_fn(y_pred.argmax(dim = 1), y)  # from logits to pred labels\n",
        "    # Optimizer zero grad\n",
        "    optimizer.zero_grad()\n",
        "    # Loss backward\n",
        "    loss.backward()\n",
        "    # Optimizer step\n",
        "    optimizer.step()\n",
        "\n",
        "  # Calc loss and acc per epoch\n",
        "  train_loss /= len(dataloader)\n",
        "  train_accuracy /= len(dataloader)\n",
        "  print(f\"Train loss: {train_loss} | Train accuracy: {train_accuracy}\")\n",
        "\n",
        "def test_step(model: nn.Module,\n",
        "              dataloader: torch.utils.data.DataLoader,\n",
        "              loss_fn: nn.Module,\n",
        "              accuracy_fn,\n",
        "              device: torch.device = device):\n",
        "  test_loss, test_acc = 0, 0\n",
        "  model.eval()\n",
        "  with torch.inference_mode():\n",
        "    #for X, y in dataloader:\n",
        "    for batch, (X, y) in enumerate(dataloader):\n",
        "      X, y = X.to(device), y.to(device)\n",
        "      # Forward pass\n",
        "      test_pred = model(X)\n",
        "      # Calc loss and acc\n",
        "      test_loss += loss_fn(test_pred, y)\n",
        "      test_acc += accuracy_fn(test_pred.argmax(dim = 1), y)\n",
        "    # Adjust metrics and print\n",
        "    test_loss /= len(dataloader)\n",
        "    test_acc /= len(dataloader)\n",
        "    print(f\"Test loss: {test_loss} | Test accuracy: {test_acc}\")"
      ],
      "metadata": {
        "id": "TnS1L_h_wgGE",
        "executionInfo": {
          "status": "ok",
          "timestamp": 1750117366489,
          "user_tz": 360,
          "elapsed": 32,
          "user": {
            "displayName": "Lane Hale",
            "userId": "11862511056076326919"
          }
        }
      },
      "execution_count": 24,
      "outputs": []
    },
    {
      "cell_type": "code",
      "source": [
        "# Setup loss and optimizer\n",
        "loss_fn = nn.CrossEntropyLoss()\n",
        "optimizer = torch.optim.SGD(params = model_2.parameters(),\n",
        "                            lr = 0.1)\n",
        "# Setup accuracy_fn\n",
        "# Python Package Index (PyPI)\n",
        "try:\n",
        "  import torchmetrics\n",
        "  print(f\"Already installed, torchmetrics version: {torchmetrics.__version__}\")\n",
        "except:\n",
        "  !pip install -q torchmetrics  # -q, --quiet Give less output\n",
        "  import torchmetrics\n",
        "#  from torchmetrics import Accuracy\n",
        "\n",
        "accuracy_fn = torchmetrics.Accuracy(task = \"multiclass\", num_classes = len(class_names)).to(device)\n",
        "#    acc_fn = Accuracy(task = 'multiclass', num_classes=len(fashion_mnist_class_names)).to(device)"
      ],
      "metadata": {
        "collapsed": true,
        "id": "juhELfVf1Bsd",
        "colab": {
          "base_uri": "https://localhost:8080/"
        },
        "executionInfo": {
          "status": "ok",
          "timestamp": 1750117369048,
          "user_tz": 360,
          "elapsed": 2556,
          "user": {
            "displayName": "Lane Hale",
            "userId": "11862511056076326919"
          }
        },
        "outputId": "54ba9a06-0574-4952-e756-7c8951128a4e"
      },
      "execution_count": 25,
      "outputs": [
        {
          "output_type": "stream",
          "name": "stdout",
          "text": [
            "Already installed, torchmetrics version: 1.7.3\n"
          ]
        }
      ]
    },
    {
      "cell_type": "code",
      "source": [
        "import torch\n",
        "torch.manual_seed(42)\n",
        "\n",
        "# Import tqdm for progress bar\n",
        "from tqdm.auto import tqdm\n",
        "# Measure time\n",
        "from timeit import default_timer as timer\n",
        "train_time_start = timer()\n",
        "\n",
        "# Train and Test model\n",
        "epochs = 3\n",
        "for epoch in tqdm(range(epochs)):\n",
        "  print(f\"Epoch: {epoch}\\n------------\")\n",
        "  train_step(model=model_2,\n",
        "             dataloader=train_dataloader,\n",
        "             loss_fn=loss_fn,\n",
        "             optimizer=optimizer,\n",
        "             accuracy_fn=accuracy_fn,\n",
        "             device=device)\n",
        "  test_step(model=model_2,\n",
        "            dataloader=test_dataloader,\n",
        "            loss_fn=loss_fn,\n",
        "            accuracy_fn=accuracy_fn,\n",
        "            device=device)\n",
        "\n",
        "train_time_end = timer()\n",
        "total_train_time = train_time_end - train_time_start\n",
        "print(f\"Train time on {device}: {(train_time_end - train_time_start):.3f} seconds\")"
      ],
      "metadata": {
        "id": "8Pc5wSS_1MZf",
        "colab": {
          "base_uri": "https://localhost:8080/",
          "height": 275,
          "referenced_widgets": [
            "f05f6a97da9a4b83919cab276519c168",
            "46141d75758d481d8ae69e8cc2d50f00",
            "14386412982e49f6a2ebe07669549fd1",
            "2065bc04672f4ec7a70916aa470bcd53",
            "1443f2a9d91d4170a56468e00b71febb",
            "9bdc744e5f8f46c0ba122a7cb5ead29f",
            "32ca7f7e049d4c049f023c1912886362",
            "7a8582a75f9d4e93b7ec342c29188bd7",
            "8f85d53fc743439391843b8dc30c3dfb",
            "137a43500a944c4f9100305165993841",
            "34b6c5115b424e23bcada9b4ad5ec738"
          ]
        },
        "executionInfo": {
          "status": "ok",
          "timestamp": 1750117412847,
          "user_tz": 360,
          "elapsed": 43814,
          "user": {
            "displayName": "Lane Hale",
            "userId": "11862511056076326919"
          }
        },
        "outputId": "a76bc2a7-9bdb-4400-bf80-c1e3b91b4042"
      },
      "execution_count": 26,
      "outputs": [
        {
          "output_type": "display_data",
          "data": {
            "text/plain": [
              "  0%|          | 0/3 [00:00<?, ?it/s]"
            ],
            "application/vnd.jupyter.widget-view+json": {
              "version_major": 2,
              "version_minor": 0,
              "model_id": "f05f6a97da9a4b83919cab276519c168"
            }
          },
          "metadata": {}
        },
        {
          "output_type": "stream",
          "name": "stdout",
          "text": [
            "Epoch: 0\n",
            "------------\n",
            "Train loss: 0.596924901008606 | Train accuracy: 0.7847166657447815\n",
            "Test loss: 0.38436147570610046 | Test accuracy: 0.8622204065322876\n",
            "Epoch: 1\n",
            "------------\n",
            "Train loss: 0.35551467537879944 | Train accuracy: 0.8724166750907898\n",
            "Test loss: 0.35254165530204773 | Test accuracy: 0.8689097166061401\n",
            "Epoch: 2\n",
            "------------\n",
            "Train loss: 0.31819745898246765 | Train accuracy: 0.8858166933059692\n",
            "Test loss: 0.3265734612941742 | Test accuracy: 0.8828873634338379\n",
            "Train time on cuda: 43.832 seconds\n"
          ]
        }
      ]
    },
    {
      "cell_type": "code",
      "source": [
        "print(f\"Train time on {device}: {total_train_time:.3f} seconds\")\n",
        "print(f\"Train time on {device}: {train_time_end - train_time_start:.3f} seconds\")"
      ],
      "metadata": {
        "id": "tibiuQJabK0b",
        "colab": {
          "base_uri": "https://localhost:8080/"
        },
        "executionInfo": {
          "status": "ok",
          "timestamp": 1750117412869,
          "user_tz": 360,
          "elapsed": 19,
          "user": {
            "displayName": "Lane Hale",
            "userId": "11862511056076326919"
          }
        },
        "outputId": "0e66580d-6695-42b8-9aec-f9aab582e149"
      },
      "execution_count": 27,
      "outputs": [
        {
          "output_type": "stream",
          "name": "stdout",
          "text": [
            "Train time on cuda: 43.832 seconds\n",
            "Train time on cuda: 43.832 seconds\n"
          ]
        }
      ]
    },
    {
      "cell_type": "code",
      "source": [
        "def make_predictions(model: torch.nn.Module, data: list, device: torch.device = device):\n",
        "  pred_probs = []\n",
        "  model.eval()\n",
        "  with torch.inference_mode():\n",
        "    for sample in data:\n",
        "      # Prepare sample\n",
        "      sample = torch.unsqueeze(sample, dim=0).to(device)\n",
        "      # Forward pass (model outputs raw logit)\n",
        "      pred_logit = model(sample)\n",
        "      # Get prediction probability (logit to pred_prob)\n",
        "      pred_prob = torch.softmax(pred_logit.squeeze(), dim=0)\n",
        "      # Use CPU for pred_prob\n",
        "      pred_probs.append(pred_prob.cpu())\n",
        "\n",
        "    # Stack pred_probs to turn list into tensor\n",
        "    return torch.stack(pred_probs)"
      ],
      "metadata": {
        "id": "mYSds1PEfjbF",
        "executionInfo": {
          "status": "ok",
          "timestamp": 1750117412873,
          "user_tz": 360,
          "elapsed": 2,
          "user": {
            "displayName": "Lane Hale",
            "userId": "11862511056076326919"
          }
        }
      },
      "execution_count": 28,
      "outputs": []
    },
    {
      "cell_type": "code",
      "source": [
        "import random\n",
        "random.seed(42)\n",
        "test_samples, test_labels = [], []\n",
        "for sample, label in random.sample(list(test_data), k=9):\n",
        "  test_samples.append(sample)\n",
        "  test_labels.append(label)\n",
        "\n",
        "# View the first test sample shape and label\n",
        "print(f\"Test sample image shape: {test_samples[0].shape}\\nTest sample label: {test_labels[0]} ({class_names[test_labels[0]]})\")"
      ],
      "metadata": {
        "id": "UnCJhTiCg-Qs",
        "colab": {
          "base_uri": "https://localhost:8080/"
        },
        "executionInfo": {
          "status": "ok",
          "timestamp": 1750117413770,
          "user_tz": 360,
          "elapsed": 894,
          "user": {
            "displayName": "Lane Hale",
            "userId": "11862511056076326919"
          }
        },
        "outputId": "644a7a00-0764-4c10-e2e7-34bb9d73f321"
      },
      "execution_count": 29,
      "outputs": [
        {
          "output_type": "stream",
          "name": "stdout",
          "text": [
            "Test sample image shape: torch.Size([1, 28, 28])\n",
            "Test sample label: 5 (Sandal)\n"
          ]
        }
      ]
    },
    {
      "cell_type": "code",
      "source": [
        "# Make predictions on test samples with model 2\n",
        "pred_probs = make_predictions(model=model_2, data=test_samples)\n",
        "\n",
        "# View first n prediction probabilities list\n",
        "pred_probs[:5]"
      ],
      "metadata": {
        "id": "ZTf9k_xfh7cy",
        "colab": {
          "base_uri": "https://localhost:8080/"
        },
        "executionInfo": {
          "status": "ok",
          "timestamp": 1750117413813,
          "user_tz": 360,
          "elapsed": 40,
          "user": {
            "displayName": "Lane Hale",
            "userId": "11862511056076326919"
          }
        },
        "outputId": "b0d8c918-f13d-408b-e1b4-795a3dd425d7"
      },
      "execution_count": 30,
      "outputs": [
        {
          "output_type": "execute_result",
          "data": {
            "text/plain": [
              "tensor([[3.8897e-07, 4.2888e-06, 1.1636e-07, 2.1779e-08, 7.8012e-08, 9.9915e-01,\n",
              "         8.3262e-07, 2.6733e-05, 1.4100e-04, 6.8025e-04],\n",
              "        [1.3880e-01, 7.1731e-01, 1.1404e-03, 1.0925e-01, 1.1656e-02, 9.8155e-05,\n",
              "         2.1442e-02, 1.4748e-04, 1.8972e-05, 1.3226e-04],\n",
              "        [3.1324e-05, 2.0253e-06, 1.2041e-05, 7.7752e-06, 1.4142e-06, 1.6965e-03,\n",
              "         1.9442e-05, 7.3070e-01, 1.0807e-03, 2.6645e-01],\n",
              "        [1.6236e-03, 6.7611e-05, 7.7264e-02, 2.2490e-04, 9.1987e-01, 6.4190e-07,\n",
              "         9.3692e-04, 2.2561e-06, 7.5335e-06, 2.1849e-06],\n",
              "        [2.8115e-02, 1.5412e-05, 7.0982e-05, 9.5926e-01, 1.9110e-04, 7.3027e-07,\n",
              "         1.2292e-02, 4.9694e-06, 4.8695e-05, 5.4146e-06]])"
            ]
          },
          "metadata": {},
          "execution_count": 30
        }
      ]
    },
    {
      "cell_type": "code",
      "source": [
        "# Turn the prediction probabilities into prediction labels by taking the argmax()\n",
        "pred_classes = pred_probs.argmax(dim=1)\n",
        "pred_classes"
      ],
      "metadata": {
        "id": "Zax5dBkOiQVA",
        "colab": {
          "base_uri": "https://localhost:8080/"
        },
        "executionInfo": {
          "status": "ok",
          "timestamp": 1750117413828,
          "user_tz": 360,
          "elapsed": 13,
          "user": {
            "displayName": "Lane Hale",
            "userId": "11862511056076326919"
          }
        },
        "outputId": "0734b661-ed74-4434-ec0b-6bcc3c15da9c"
      },
      "execution_count": 31,
      "outputs": [
        {
          "output_type": "execute_result",
          "data": {
            "text/plain": [
              "tensor([5, 1, 7, 4, 3, 0, 4, 7, 1])"
            ]
          },
          "metadata": {},
          "execution_count": 31
        }
      ]
    },
    {
      "cell_type": "code",
      "source": [
        "# Are our predictions in the same form as our test labels?\n",
        "test_labels, pred_classes"
      ],
      "metadata": {
        "id": "MvOvcHf2id-r",
        "colab": {
          "base_uri": "https://localhost:8080/"
        },
        "executionInfo": {
          "status": "ok",
          "timestamp": 1750117413840,
          "user_tz": 360,
          "elapsed": 9,
          "user": {
            "displayName": "Lane Hale",
            "userId": "11862511056076326919"
          }
        },
        "outputId": "88c7cc59-394f-4fb6-b54f-b543ec58cab5"
      },
      "execution_count": 32,
      "outputs": [
        {
          "output_type": "execute_result",
          "data": {
            "text/plain": [
              "([5, 1, 7, 4, 3, 0, 4, 7, 1], tensor([5, 1, 7, 4, 3, 0, 4, 7, 1]))"
            ]
          },
          "metadata": {},
          "execution_count": 32
        }
      ]
    },
    {
      "cell_type": "code",
      "source": [
        "# See if torchmetrics exists, if not, install it\n",
        "try:\n",
        "  import torchmetrics, mlxtend\n",
        "  assert int(mlxtend.__version__.split(\".\")[1]) >= 19\n",
        "  print(f\"Already installed, mlxtend version: {mlxtend.__version__}\")\n",
        "except:\n",
        "  !pip install -q torchmetrics -U mlxtend\n",
        "  import torchmetrics, mlxtend\n",
        "  print(f\"mlxtend version: {mlxtend.__version__}\")"
      ],
      "metadata": {
        "id": "UXlgVOqaiuEK",
        "colab": {
          "base_uri": "https://localhost:8080/"
        },
        "executionInfo": {
          "status": "ok",
          "timestamp": 1750117413855,
          "user_tz": 360,
          "elapsed": 12,
          "user": {
            "displayName": "Lane Hale",
            "userId": "11862511056076326919"
          }
        },
        "outputId": "5b6d9f9c-a529-4ba6-d234-6935828f062d"
      },
      "execution_count": 33,
      "outputs": [
        {
          "output_type": "stream",
          "name": "stdout",
          "text": [
            "Already installed, mlxtend version: 0.23.4\n"
          ]
        }
      ]
    },
    {
      "cell_type": "code",
      "source": [
        "# Make predictions with trained model\n",
        "y_preds = []\n",
        "model_2.eval()\n",
        "with torch.inference_mode():\n",
        "  for X, y in tqdm(test_dataloader, desc=\"Making Predictions\"):\n",
        "    # Send data and targets to active device\n",
        "    X, y = X.to(device), y.to(device)\n",
        "    # Do the forward pass\n",
        "    y_logit = model_2(X)\n",
        "    # Turn predictions from logits to pred probabilities to pred labels\n",
        "    y_pred = torch.softmax(y_logit.squeeze(), dim=0).argmax(dim=1)  # tensor([9, 2, 1, 1, 6, 1, 4, 6, 5, 7])\n",
        "    #y_pred = torch.argmax(torch.softmax(y_logit, dim=1), dim=1)    # tensor([9, 2, 1, 1, 6, 1, 4, 6, 5, 7])\n",
        "    # Put predictions on cpu for evaluation\n",
        "    y_preds.append(y_pred.cpu())\n",
        "\n",
        "# Concatenate list of predictions into a tensor\n",
        "y_pred_tensor = torch.cat(y_preds)\n",
        "y_pred_tensor[:10]"
      ],
      "metadata": {
        "id": "3YbztvYKflcI",
        "colab": {
          "base_uri": "https://localhost:8080/",
          "height": 66,
          "referenced_widgets": [
            "2980707a40444a23ac37c7ee687b8d25",
            "3f1653226b6444138a0c5b2668dcffab",
            "4d75d58047614d459c4b8e7d2c0ebb98",
            "13563e8e78174d289b5e37a30845a954",
            "9155c76e7c6147df976d11c9fa997caa",
            "0afc4c693a484cc0a2cfa2ebfcf5e30a",
            "97fa84e7b5d1448488ff798aa868734f",
            "bbbff6e209dd4608a3b7299096274d41",
            "19a710da84f84b3eb53b7a7f3d926a6c",
            "882fa6362577458792cce66f4e64e006",
            "4b8458f700df4402ae32ac2e49e12e84"
          ]
        },
        "executionInfo": {
          "status": "ok",
          "timestamp": 1750117414994,
          "user_tz": 360,
          "elapsed": 1137,
          "user": {
            "displayName": "Lane Hale",
            "userId": "11862511056076326919"
          }
        },
        "outputId": "1fad9401-f379-49d9-d362-7a9109dfbe65"
      },
      "execution_count": 34,
      "outputs": [
        {
          "output_type": "display_data",
          "data": {
            "text/plain": [
              "Making Predictions:   0%|          | 0/313 [00:00<?, ?it/s]"
            ],
            "application/vnd.jupyter.widget-view+json": {
              "version_major": 2,
              "version_minor": 0,
              "model_id": "2980707a40444a23ac37c7ee687b8d25"
            }
          },
          "metadata": {}
        },
        {
          "output_type": "execute_result",
          "data": {
            "text/plain": [
              "tensor([9, 2, 1, 1, 6, 1, 4, 6, 5, 7])"
            ]
          },
          "metadata": {},
          "execution_count": 34
        }
      ]
    },
    {
      "cell_type": "code",
      "source": [
        "from torchmetrics import ConfusionMatrix\n",
        "from mlxtend.plotting import plot_confusion_matrix\n",
        "\n",
        "# Setup confusion matrix instance and compare predictions to targets\n",
        "cm = ConfusionMatrix(num_classes=len(class_names),\n",
        "                     task = \"multiclass\")\n",
        "cm_tensor = cm(preds = y_pred_tensor,\n",
        "               target = test_data.targets)\n",
        "\n",
        "# Plot the confusion matrix\n",
        "fig, ax = plot_confusion_matrix(\n",
        "    conf_mat = cm_tensor.numpy(),\n",
        "    class_names = class_names,\n",
        "    figsize = (10, 7)\n",
        ");"
      ],
      "metadata": {
        "id": "CiK5tKwud4jS",
        "colab": {
          "base_uri": "https://localhost:8080/",
          "height": 667
        },
        "executionInfo": {
          "status": "ok",
          "timestamp": 1750117415627,
          "user_tz": 360,
          "elapsed": 631,
          "user": {
            "displayName": "Lane Hale",
            "userId": "11862511056076326919"
          }
        },
        "outputId": "bae7f2f0-436b-4660-b924-7d90ac185ae5"
      },
      "execution_count": 35,
      "outputs": [
        {
          "output_type": "display_data",
          "data": {
            "text/plain": [
              "<Figure size 1000x700 with 1 Axes>"
            ],
            "image/png": "[encoded data removed]"
          },
          "metadata": {}
        }
      ]
    },
    {
      "cell_type": "code",
      "source": [
        "## 12. Create a random tensor of shape `[1, 3, 64, 64]` and pass it through a `nn.Conv2d()` layer with various hyperparameter\n",
        "#      settings (these can be any settings you choose), what do you notice if the `kernel_size` parameter goes up and down?\n",
        "random_tensor = torch.rand([1, 3, 64, 64])\n",
        "random_tensor.shape"
      ],
      "metadata": {
        "id": "ykNHCDx_uagv",
        "colab": {
          "base_uri": "https://localhost:8080/"
        },
        "executionInfo": {
          "status": "ok",
          "timestamp": 1750117415642,
          "user_tz": 360,
          "elapsed": 11,
          "user": {
            "displayName": "Lane Hale",
            "userId": "11862511056076326919"
          }
        },
        "outputId": "6b7d8684-9fc5-41f8-9a61-b0fd43824b63"
      },
      "execution_count": 36,
      "outputs": [
        {
          "output_type": "execute_result",
          "data": {
            "text/plain": [
              "torch.Size([1, 3, 64, 64])"
            ]
          },
          "metadata": {},
          "execution_count": 36
        }
      ]
    },
    {
      "cell_type": "code",
      "source": [
        "conv_layer = nn.Conv2d(in_channels =3,\n",
        "                       out_channels = 64,\n",
        "                       kernel_size = 3,\n",
        "                       stride = 2,\n",
        "                       padding = 1)\n",
        "print(f\"Random tensor original shape: {random_tensor.shape}\")\n",
        "random_tensor_through_conv_layer = conv_layer(random_tensor)\n",
        "print(f\"Random tensor through conv layer shape: {random_tensor_through_conv_layer.shape}\")"
      ],
      "metadata": {
        "id": "giyg-m9FvZsm",
        "colab": {
          "base_uri": "https://localhost:8080/"
        },
        "executionInfo": {
          "status": "ok",
          "timestamp": 1750117415650,
          "user_tz": 360,
          "elapsed": 7,
          "user": {
            "displayName": "Lane Hale",
            "userId": "11862511056076326919"
          }
        },
        "outputId": "0a010a9d-7bbf-47dd-b92b-b164bc3aaa51"
      },
      "execution_count": 37,
      "outputs": [
        {
          "output_type": "stream",
          "name": "stdout",
          "text": [
            "Random tensor original shape: torch.Size([1, 3, 64, 64])\n",
            "Random tensor through conv layer shape: torch.Size([1, 64, 32, 32])\n"
          ]
        }
      ]
    },
    {
      "cell_type": "code",
      "source": [
        "# kernel_size has to be > 0\n",
        "# kernel_size = 1  Random tensor through conv layer shape: torch.Size([1, 64, 33, 33])\n",
        "# kernel_size = 5  Random tensor through conv layer shape: torch.Size([1, 64, 31, 31])\n",
        "# kernel_size = 9  Random tensor through conv layer shape: torch.Size([1, 64, 29, 29])\n",
        "# kernel_size = 15  Random tensor through conv layer shape: torch.Size([1, 64, 26, 26])\n",
        "# kernel_size = 49  Random tensor through conv layer shape: torch.Size([1, 64, 9, 9])\n",
        "# kernel_size = 64  Random tensor through conv layer shape: torch.Size([1, 64, 2, 2])\n",
        "# kernel_size = 66  Random tensor through conv layer shape: torch.Size([1, 64, 1, 1])\n",
        "# 67 errors - RuntimeError: Calculated padded input size per channel: (66 x 66). Kernel size: (67 x 67). Kernel size can't be greater than actual input size\n",
        "conv_layer = nn.Conv2d(in_channels =3,\n",
        "                       out_channels = 64,\n",
        "                       kernel_size = 66,\n",
        "                       stride = 2,\n",
        "                       padding = 1)\n",
        "print(f\"Random tensor original shape: {random_tensor.shape}\")\n",
        "random_tensor_through_conv_layer = conv_layer(random_tensor)\n",
        "print(f\"Random tensor through conv layer shape: {random_tensor_through_conv_layer.shape}\")"
      ],
      "metadata": {
        "id": "lv66akMYwKEv",
        "colab": {
          "base_uri": "https://localhost:8080/"
        },
        "executionInfo": {
          "status": "ok",
          "timestamp": 1750117415716,
          "user_tz": 360,
          "elapsed": 64,
          "user": {
            "displayName": "Lane Hale",
            "userId": "11862511056076326919"
          }
        },
        "outputId": "0e2aa8af-bb66-4c57-eff5-36f813f41a31"
      },
      "execution_count": 38,
      "outputs": [
        {
          "output_type": "stream",
          "name": "stdout",
          "text": [
            "Random tensor original shape: torch.Size([1, 3, 64, 64])\n",
            "Random tensor through conv layer shape: torch.Size([1, 64, 1, 1])\n"
          ]
        }
      ]
    },
    {
      "cell_type": "code",
      "source": [
        "# Get wrong prediction indexes\n",
        "wrong_pred_indexes = [i for i in range(len(test_labels)) if test_labels[i] != pred_classes[i]]\n",
        "wrong_pred_indexes[:10]"
      ],
      "metadata": {
        "id": "w9hH-ECOVpM8",
        "colab": {
          "base_uri": "https://localhost:8080/"
        },
        "executionInfo": {
          "status": "ok",
          "timestamp": 1750117415726,
          "user_tz": 360,
          "elapsed": 14,
          "user": {
            "displayName": "Lane Hale",
            "userId": "11862511056076326919"
          }
        },
        "outputId": "7680149c-c8b5-493b-9fe5-ccf6ed569d92"
      },
      "execution_count": 39,
      "outputs": [
        {
          "output_type": "execute_result",
          "data": {
            "text/plain": [
              "[]"
            ]
          },
          "metadata": {},
          "execution_count": 39
        }
      ]
    },
    {
      "cell_type": "code",
      "source": [
        "test_labels, pred_classes, test_data.targets, y_pred_tensor"
      ],
      "metadata": {
        "id": "REf2lqz-Z38R",
        "colab": {
          "base_uri": "https://localhost:8080/"
        },
        "executionInfo": {
          "status": "ok",
          "timestamp": 1750117415771,
          "user_tz": 360,
          "elapsed": 44,
          "user": {
            "displayName": "Lane Hale",
            "userId": "11862511056076326919"
          }
        },
        "outputId": "5ae548f4-1069-4d1a-b38c-6667390c9e32"
      },
      "execution_count": 40,
      "outputs": [
        {
          "output_type": "execute_result",
          "data": {
            "text/plain": [
              "([5, 1, 7, 4, 3, 0, 4, 7, 1],\n",
              " tensor([5, 1, 7, 4, 3, 0, 4, 7, 1]),\n",
              " tensor([9, 2, 1,  ..., 8, 1, 5]),\n",
              " tensor([9, 2, 1,  ..., 8, 1, 8]))"
            ]
          },
          "metadata": {},
          "execution_count": 40
        }
      ]
    },
    {
      "cell_type": "code",
      "source": [
        "import numpy as np\n",
        "wrong_pred_indexes = np.where(y_pred_tensor != test_data.targets)[0]\n",
        "wrong_pred_indexes[:10]"
      ],
      "metadata": {
        "id": "wNXb6J1pXwpz",
        "colab": {
          "base_uri": "https://localhost:8080/"
        },
        "executionInfo": {
          "status": "ok",
          "timestamp": 1750117415781,
          "user_tz": 360,
          "elapsed": 42,
          "user": {
            "displayName": "Lane Hale",
            "userId": "11862511056076326919"
          }
        },
        "outputId": "78b77373-d508-4cd4-acc1-2573796469f6"
      },
      "execution_count": 41,
      "outputs": [
        {
          "output_type": "execute_result",
          "data": {
            "text/plain": [
              "array([12, 15, 17, 23, 25, 49, 50, 53, 65, 66])"
            ]
          },
          "metadata": {},
          "execution_count": 41
        }
      ]
    },
    {
      "cell_type": "code",
      "source": [
        "len(wrong_pred_indexes), len(test_data.targets), len(y_pred_tensor)"
      ],
      "metadata": {
        "id": "IBgA03ufYa4x",
        "colab": {
          "base_uri": "https://localhost:8080/"
        },
        "executionInfo": {
          "status": "ok",
          "timestamp": 1750117415791,
          "user_tz": 360,
          "elapsed": 7,
          "user": {
            "displayName": "Lane Hale",
            "userId": "11862511056076326919"
          }
        },
        "outputId": "be305866-e4a1-4946-e80a-ec0862ff9ac1"
      },
      "execution_count": 42,
      "outputs": [
        {
          "output_type": "execute_result",
          "data": {
            "text/plain": [
              "(1932, 10000, 10000)"
            ]
          },
          "metadata": {},
          "execution_count": 42
        }
      ]
    },
    {
      "cell_type": "code",
      "source": [
        "# Select random 9 wrong predictions and plot them\n",
        "import random\n",
        "random_selection = random.sample(list(wrong_pred_indexes), k = 9)\n",
        "plt.figure(figsize=(10, 10))\n",
        "for i, idx in enumerate(random_selection):\n",
        "  # Get true and pred labels\n",
        "  true_label = class_names[test_data.targets[idx]]  #[test_data[idx][1]]\n",
        "  pred_label = class_names[y_pred_tensor[idx]]\n",
        "\n",
        "  # Plot the wrong prediction with its original label\n",
        "  plt.subplot(3, 3, i+1)\n",
        "  plt.imshow(test_data.data[idx].squeeze(), cmap=\"gray\")\n",
        "  plt.title(f\"True: {true_label} | Pred: {pred_label}\", c=\"r\")\n",
        "  plt.axis(False)\n",
        "\n",
        "# From the look of some of these predictions, the model is getting about as confused as I would...\n",
        "# For example it predicts Sneaker instead of Sandal when it could have easily been a Sneaker.\n",
        "# The same goes for the confusion between the classes of T-shirt/top and Shirt, many of the examples here look similar."
      ],
      "metadata": {
        "id": "J3f4cJFxbDhZ",
        "colab": {
          "base_uri": "https://localhost:8080/",
          "height": 829
        },
        "executionInfo": {
          "status": "ok",
          "timestamp": 1750117416235,
          "user_tz": 360,
          "elapsed": 442,
          "user": {
            "displayName": "Lane Hale",
            "userId": "11862511056076326919"
          }
        },
        "outputId": "3d24522f-335c-4f57-ab73-8fdd00d07617"
      },
      "execution_count": 43,
      "outputs": [
        {
          "output_type": "display_data",
          "data": {
            "text/plain": [
              "<Figure size 1000x1000 with 9 Axes>"
            ],
            "image/png": "[encoded data removed]"
          },
          "metadata": {}
        }
      ]
    },
    {
      "cell_type": "code",
      "source": [
        "from google.colab import runtime\n",
        "runtime.unassign()"
      ],
      "metadata": {
        "id": "Jyug3L0xftnN",
        "executionInfo": {
          "status": "ok",
          "timestamp": 1750117416552,
          "user_tz": 360,
          "elapsed": 318,
          "user": {
            "displayName": "Lane Hale",
            "userId": "11862511056076326919"
          }
        }
      },
      "execution_count": 44,
      "outputs": []
    }
  ]
}
